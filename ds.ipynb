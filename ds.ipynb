{
 "cells": [
  {
   "cell_type": "code",
   "execution_count": 33,
   "metadata": {},
   "outputs": [
    {
     "name": "stdout",
     "output_type": "stream",
     "text": [
      "6\n"
     ]
    }
   ],
   "source": [
    "# A subarray is a part of an array including one or more contiguous/adjacent elements.\n",
    "\n",
    "\n",
    "\n",
    "def largestContiguousSum(arr: list[int]) -> int:\n",
    "    maxSum = 0\n",
    "    currentSum = 0  \n",
    "    if (len(arr)):\n",
    "        currentSum = arr[0]\n",
    "\n",
    "    for item in arr[1:]:\n",
    "        currentSum = max(item, item + currentSum)\n",
    "        maxSum = max(maxSum, currentSum)\n",
    "    \n",
    "    return maxSum\n",
    "\n",
    "\n",
    "print(largestContiguousSum([-2, 1, -3, 4, -1, 2, 1, -5, 4]))\n"
   ]
  },
  {
   "cell_type": "code",
   "execution_count": 46,
   "metadata": {},
   "outputs": [
    {
     "name": "stdout",
     "output_type": "stream",
     "text": [
      "[1, 2, 3, 4, 5, 6, 7, 8, 9]\n"
     ]
    }
   ],
   "source": [
    "# Merge Sort\n",
    "# divide and conquer\n",
    "\n",
    "\n",
    "def merge_sort(arr: list[int]):\n",
    "    if len(arr) <= 1:\n",
    "        return arr\n",
    "    alen = len(arr)\n",
    "\n",
    "    size = int(alen/2)\n",
    "    left = arr[:size]\n",
    "    right = arr[size:]\n",
    "\n",
    "    leftSorted  = merge_sort(left)\n",
    "    rightSorted  = merge_sort(right)\n",
    "\n",
    "    return merge(leftSorted, rightSorted)\n",
    "\n",
    " \n",
    "def merge(arr1: list[int], arr2: list[int]): \n",
    "    sortedArr = []\n",
    "    i = 0\n",
    "    j = 0 \n",
    "    while(i < len(arr1)) and (j < len(arr2)) :\n",
    "        if arr1[i] > arr2[j]:\n",
    "            sortedArr.append(arr2[j])\n",
    "            j = j+1\n",
    "        else:\n",
    "            sortedArr.append(arr1[i])\n",
    "            i = i +1    \n",
    "\n",
    "    if (i < len(arr1)):\n",
    "        sortedArr.extend(arr1[i:])\n",
    "    if (j < len(arr1)):\n",
    "        sortedArr.extend(arr2[j:])\n",
    "\n",
    "    return sortedArr\n",
    "    \n",
    "\n",
    "print(merge_sort([1,3,5,7,9,2,4,6,8]))"
   ]
  },
  {
   "cell_type": "code",
   "execution_count": 38,
   "metadata": {},
   "outputs": [
    {
     "name": "stdout",
     "output_type": "stream",
     "text": [
      " i value : 5\n",
      " j value : 5\n",
      "[1, 2, 3, 4, 5, 6, 7, 8, 9, 10, 11]\n"
     ]
    }
   ],
   "source": [
    "arr1 = [1,3,5,7,9,11]\n",
    "arr2 = [2,4,6,8,10]\n",
    "\n",
    "def merge(arr1: list[int], arr2: list[int]): \n",
    "    sortedArr = []\n",
    "    i = 0\n",
    "    j = 0 \n",
    "    while(i < len(arr1)) and (j < len(arr2)) :\n",
    "        if arr1[i] > arr2[j]:\n",
    "            sortedArr.append(arr2[j])\n",
    "            j = j+1\n",
    "        else:\n",
    "            sortedArr.append(arr1[i])\n",
    "            i = i +1    \n",
    "    print(f' i value : {i}')\n",
    "    print(f' j value : {j}')\n",
    "    if (i < len(arr1)):\n",
    "        sortedArr.extend(arr1[i:])\n",
    "    if (j < len(arr1)):\n",
    "        sortedArr.extend(arr2[j:])\n",
    "\n",
    "    return sortedArr\n",
    "\n",
    "print(merge(arr1, arr2))\n"
   ]
  },
  {
   "cell_type": "code",
   "execution_count": 52,
   "metadata": {},
   "outputs": [
    {
     "name": "stdout",
     "output_type": "stream",
     "text": [
      "[1, 2, 3, 4, 5, 6, 7, 8, 9]\n"
     ]
    }
   ],
   "source": [
    "# Quick Sort\n",
    "\n",
    "\n",
    "def quick_sort(arr: list[int]):\n",
    "    if len(arr) <= 1:\n",
    "        return arr\n",
    "    \n",
    "    \n",
    "    pivot = arr[len(arr) - 1:]\n",
    "\n",
    "\n",
    "    leftSorted = []\n",
    "    rightSorted = []\n",
    "    for i in range(len(arr) -1):\n",
    "        if arr[i] > pivot[0]:\n",
    "            rightSorted.append(arr[i])\n",
    "        else:\n",
    "            leftSorted.append(arr[i])\n",
    "\n",
    "    return quick_sort(leftSorted) + pivot + quick_sort(rightSorted)\n",
    "\n",
    "\n",
    "print(quick_sort([1,3,5,7,9,2,4,6,8]))"
   ]
  },
  {
   "cell_type": "code",
   "execution_count": 49,
   "metadata": {},
   "outputs": [
    {
     "data": {
      "text/plain": [
       "[1, 2, 3, 4, 5]"
      ]
     },
     "execution_count": 49,
     "metadata": {},
     "output_type": "execute_result"
    }
   ],
   "source": [
    "[1,2] + [3] + [4,5,]"
   ]
  }
 ],
 "metadata": {
  "kernelspec": {
   "display_name": ".venv",
   "language": "python",
   "name": "python3"
  },
  "language_info": {
   "codemirror_mode": {
    "name": "ipython",
    "version": 3
   },
   "file_extension": ".py",
   "mimetype": "text/x-python",
   "name": "python",
   "nbconvert_exporter": "python",
   "pygments_lexer": "ipython3",
   "version": "3.13.2"
  }
 },
 "nbformat": 4,
 "nbformat_minor": 2
}
